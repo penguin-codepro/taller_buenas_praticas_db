{
 "cells": [
  {
   "cell_type": "markdown",
   "metadata": {},
   "source": [
    "##### Primero generamos y guardamos una clave de encriptación en un archivo para su uso posterior, y establecemos una conexión a una base de datos SQLite para crear una tabla Usuarios con columnas para ID, Nombre, Email, y DatosSensibles."
   ]
  },
  {
   "cell_type": "code",
   "execution_count": 3,
   "metadata": {},
   "outputs": [],
   "source": [
    "from cryptography.fernet import Fernet\n",
    "import sqlite3\n",
    "import os\n",
    "\n",
    "# Generar una clave y guardarla en un archivo (esto una sola vez)\n",
    "def generar_clave():\n",
    "    key = Fernet.generate_key()\n",
    "    with open(\"secret.key\", \"wb\") as key_file:\n",
    "        key_file.write(key)\n",
    "\n",
    "# Leer la clave desde el archivo\n",
    "def cargar_clave():\n",
    "    return open(\"secret.key\", \"rb\").read()\n",
    "\n",
    "conn = sqlite3.connect('seguridad.db')\n",
    "cursor = conn.cursor()\n",
    "\n",
    "# Crear una tabla en la base de datos\n",
    "def crear_tabla():\n",
    "    cursor.execute('''\n",
    "    CREATE TABLE IF NOT EXISTS Usuarios (\n",
    "        ID INTEGER PRIMARY KEY,\n",
    "        Nombre TEXT NOT NULL,\n",
    "        Email TEXT UNIQUE,\n",
    "        DatosSensibles BLOB\n",
    "    );\n",
    "    ''')"
   ]
  },
  {
   "cell_type": "markdown",
   "metadata": {},
   "source": [
    "##### Luego creamos una funcion que encripta datos sensibles usando la clave de encriptación cargada previamente, y los guarda en la base de datos SQLite, intentando hasta 5 veces si ocurre un error de operación en la base de datos."
   ]
  },
  {
   "cell_type": "code",
   "execution_count": 4,
   "metadata": {},
   "outputs": [],
   "source": [
    "def encriptar_y_guardar_datos(nombre, email, datos_sensibles):\n",
    "    key = cargar_clave()\n",
    "    f = Fernet(key)\n",
    "    datos_encriptados = f.encrypt(datos_sensibles.encode())\n",
    "    for _ in range(5):  # Reintentar hasta 5 veces\n",
    "        try:\n",
    "            conn = sqlite3.connect('seguridad.db')\n",
    "            cursor = conn.cursor()\n",
    "            cursor.execute(\"INSERT INTO Usuarios (Nombre, Email, DatosSensibles) VALUES (?, ?, ?)\",\n",
    "                           (nombre, email, datos_encriptados))\n",
    "            conn.commit()\n",
    "            print(f\"Datos para {nombre} encriptados y guardados correctamente.\")\n",
    "            conn.close()\n",
    "            break\n",
    "        except sqlite3.OperationalError as e:\n",
    "            print(f\"Error: {e}, reintentando...\")"
   ]
  },
  {
   "cell_type": "markdown",
   "metadata": {},
   "source": [
    "##### Luego creamos otra funcion que intenta hasta 5 veces recuperar y desencriptar datos sensibles de un usuario, utilizando una clave de encriptación cargada previamente y manejando errores operacionales de la base de datos."
   ]
  },
  {
   "cell_type": "code",
   "execution_count": 6,
   "metadata": {},
   "outputs": [],
   "source": [
    "def recuperar_y_desencriptar_datos(email):\n",
    "    key = cargar_clave()\n",
    "    f = Fernet(key)\n",
    "    for _ in range(5):  # Reintentar hasta 5 veces\n",
    "        try:\n",
    "            conn = sqlite3.connect('seguridad.db')\n",
    "            cursor = conn.cursor()\n",
    "            cursor.execute(\"SELECT Nombre, Email, DatosSensibles FROM Usuarios WHERE Email = ?\", (email,))\n",
    "            usuario = cursor.fetchone()\n",
    "            if usuario is None:\n",
    "                print(f\"No se encontraron datos para el email: {email}\")\n",
    "                return None, None, None\n",
    "            datos_desencriptados = f.decrypt(usuario[2]).decode()\n",
    "            return usuario[0], usuario[1], datos_desencriptados\n",
    "        except sqlite3.OperationalError as e:\n",
    "            print(f\"Error: {e}, reintentando...\")"
   ]
  },
  {
   "cell_type": "markdown",
   "metadata": {},
   "source": [
    "Mostrar el flujo final de las funciones"
   ]
  },
  {
   "cell_type": "markdown",
   "metadata": {},
   "source": [
    "##### Creamos una funcion para probar las creadas anteriormente, verificamos si existe una clave de encriptación y generamos una si es necesario, creamos una tabla en la base de datos SQLite, encriptamos y guardamos datos sensibles, luego recuperamos y desencriptamos esos datos, mostrando el flujo completo de encriptación y desencriptación para un usuario de ejemplo."
   ]
  },
  {
   "cell_type": "code",
   "execution_count": 8,
   "metadata": {},
   "outputs": [
    {
     "name": "stdout",
     "output_type": "stream",
     "text": [
      "Datos para Edu encriptados y guardados correctamente.\n",
      "Datos encriptados y guardados para Edu.\n",
      "Nombre: Edu\n",
      "Email: Edu@Penguin.com\n",
      "Datos Sensibles: Información muy confidencial\n"
     ]
    }
   ],
   "source": [
    "conn = sqlite3.connect('seguridad.db')\n",
    "cursor = conn.cursor()\n",
    "def mostrar_flujo():\n",
    "    # Generar la clave si no existe\n",
    "    if not os.path.exists(\"secret.key\"):\n",
    "        generar_clave()\n",
    "    \n",
    "    # Crear la tabla en la base de datos\n",
    "    crear_tabla()\n",
    "\n",
    "    # Datos de ejemplo\n",
    "    nombre = \"Tutu\"\n",
    "    email = \"Tutu@Penguin.com\"\n",
    "    datos_sensibles = \"Información muy confidencial\"\n",
    "\n",
    "    # Encriptar y guardar datos\n",
    "    encriptar_y_guardar_datos(nombre, email, datos_sensibles)\n",
    "    print(f\"Datos encriptados y guardados para {nombre}.\")\n",
    "\n",
    "    # Recuperar y desencriptar datos\n",
    "    nombre_recuperado, email_recuperado, datos_desencriptados = recuperar_y_desencriptar_datos(email)\n",
    "    print(f\"Nombre: {nombre_recuperado}\")\n",
    "    print(f\"Email: {email_recuperado}\")\n",
    "    print(f\"Datos Sensibles: {datos_desencriptados}\")\n",
    "\n",
    "# Ejecutar la demostración\n",
    "mostrar_flujo()\n"
   ]
  },
  {
   "cell_type": "markdown",
   "metadata": {},
   "source": [
    "### Consulta normal sin desencriptar los datos"
   ]
  },
  {
   "cell_type": "code",
   "execution_count": 10,
   "metadata": {},
   "outputs": [
    {
     "name": "stdout",
     "output_type": "stream",
     "text": [
      "\n",
      "Consulta sin índice:\n",
      "('Gus', 'Gus@Penguin.com', b'gAAAAABmonbOORLBSwNIy_mf79MuHSqVPFDClzd-kW1STPRcBtyyDXb5kQeWuuFEPfpN1hbnAhi-APK7dwrH9f1n2ebcz00GEU33uWR62GjIaliPEhc39RY=')\n",
      "('Edu', 'Edu@Penguin.com', b'gAAAAABmookpxARooj8Hbfo8Xyepa89gGXCiniFH6SwryvSRnHKHxTbT9zsP82DrfOCxVqjBTRCes9uxQThC1zentcwngssJKPtCPKvHjnoX_TuVWRqL9Zc=')\n"
     ]
    }
   ],
   "source": [
    "print(\"\\nConsulta sin índice:\")\n",
    "for row in cursor.execute(\"SELECT Nombre, Email, DatosSensibles FROM Usuarios\"):\n",
    "    print(row)"
   ]
  },
  {
   "cell_type": "markdown",
   "metadata": {},
   "source": [
    "## Inyecciones SQL"
   ]
  },
  {
   "cell_type": "markdown",
   "metadata": {},
   "source": [
    "Creamos una nueva tablas de Credenciales"
   ]
  },
  {
   "cell_type": "code",
   "execution_count": 11,
   "metadata": {},
   "outputs": [],
   "source": [
    "# Crear la tabla Credenciales\n",
    "cursor.execute('''\n",
    "CREATE TABLE IF NOT EXISTS Credenciales (\n",
    "    id INTEGER PRIMARY KEY,\n",
    "    username TEXT NOT NULL,\n",
    "    contrasena TEXT NOT NULL\n",
    ");\n",
    "''')\n",
    "\n",
    "# Insertar datos de ejemplo en la tabla Usuarios\n",
    "cursor.execute(\"INSERT OR IGNORE INTO Credenciales (username, contrasena) VALUES ('admin', 'admin123')\")\n",
    "cursor.execute(\"INSERT OR IGNORE INTO Credenciales (username, contrasena) VALUES ('user', 'user123')\")\n",
    "cursor.execute(\"INSERT OR IGNORE INTO Credenciales (username, contrasena) VALUES ('test', 'test123')\")\n",
    "\n",
    "conn.commit()"
   ]
  },
  {
   "cell_type": "markdown",
   "metadata": {},
   "source": [
    "## Ejemplo Inseguro\n",
    "La siguiente función genera una consulta SQL directamente insertando los valores username y password en la consulta, sin usar consultas parametrizadas. Esto deja la aplicación vulnerable a inyecciones SQL. "
   ]
  },
  {
   "cell_type": "code",
   "execution_count": 12,
   "metadata": {},
   "outputs": [],
   "source": [
    "def login_vulnerable(username, password):\n",
    "    query = f\"SELECT * FROM Credenciales WHERE username = '{username}' AND contrasena = '{password}'\" # \n",
    "    print(\"Consulta SQL generada:\", query)  # Para fines educativos, mostramos la consulta generada\n",
    "    cursor.execute(query)\n",
    "    result = cursor.fetchall()  # Obtener todos los resultados\n",
    "    conn.close()\n",
    "    return result"
   ]
  },
  {
   "cell_type": "markdown",
   "metadata": {},
   "source": [
    "#### Problemas de seguridad en la funcion anterior\n",
    "\n",
    "- Las entradas del usuario no se sanitizan ni se validan antes de ser usadas en la consulta SQL.\n",
    "- Al concatenar directamente las entradas de usuario en la consulta SQL, se permite que cualquier entrada maliciosa se ejecute como parte de la consulta SQL."
   ]
  },
  {
   "cell_type": "markdown",
   "metadata": {},
   "source": [
    "El atacante ingresa ' OR '1'='1 tanto en el campo de nombre de usuario como en el de contraseña.\n",
    "\n",
    "##### La consulta se evalúa en dos partes:\n",
    "\n",
    "- username = '' OR '1'='1': Esta parte es siempre verdadera porque '1'='1' es una condición lógica que siempre se cumple.\n",
    "- AND contrasena = '' OR '1'='1': Esta parte también es siempre verdadera por la misma razón.\n",
    "\n",
    "Debido a que ambas condiciones son verdaderas, la consulta completa devuelve todas las filas de la tabla Credenciales.\n",
    "\n",
    "##### Como resultado, el atacante obtiene acceso a la base de datos sin necesidad de conocer el nombre de usuario o la contraseña real. La condición '1'='1' hace que la consulta sea siempre verdadera, permitiendo el acceso no autorizado."
   ]
  },
  {
   "cell_type": "code",
   "execution_count": 13,
   "metadata": {},
   "outputs": [
    {
     "name": "stdout",
     "output_type": "stream",
     "text": [
      "Consulta SQL generada: SELECT * FROM Credenciales WHERE username = '' OR '1'='1' AND contrasena = '' OR '1'='1'\n"
     ]
    },
    {
     "data": {
      "text/plain": [
       "[(1, 'admin', 'admin123'),\n",
       " (2, 'user', 'user123'),\n",
       " (3, 'test', 'test123'),\n",
       " (4, 'admin', 'admin123'),\n",
       " (5, 'user', 'user123'),\n",
       " (6, 'test', 'test123')]"
      ]
     },
     "execution_count": 13,
     "metadata": {},
     "output_type": "execute_result"
    }
   ],
   "source": [
    "# Ejemplo de uso\n",
    "# Supongamos que el atacante ingresa lo siguiente:\n",
    "username = \"' OR '1'='1\"\n",
    "password = \"' OR '1'='1\"\n",
    "\n",
    "login_vulnerable(username, password)\n"
   ]
  },
  {
   "cell_type": "markdown",
   "metadata": {},
   "source": [
    "## Ejemplo Seguro\n",
    "\n",
    "Las consultas parametrizadas evitan que el código SQL malicioso sea ejecutado, protegiendo la base de datos contra ataques de inyección SQL. Al usar parámetros (?), SQLite se encarga de sanitizar los valores de entrada, asegurando que se traten como datos y no como parte del código SQL.\n",
    "\n",
    "La separación clara entre el código SQL y los datos de entrada asegura que la consulta se ejecute de manera segura, independientemente de los valores proporcionados por el usuario."
   ]
  },
  {
   "cell_type": "code",
   "execution_count": 14,
   "metadata": {},
   "outputs": [
    {
     "name": "stdout",
     "output_type": "stream",
     "text": [
      "Resultados de la consulta:\n"
     ]
    }
   ],
   "source": [
    "# Función segura usando consultas parametrizadas\n",
    "def login_seguro(username, password):\n",
    "    conn = sqlite3.connect('seguridad.db')\n",
    "    cursor = conn.cursor()\n",
    "    query = \"SELECT * FROM Credenciales WHERE username = ? AND contrasena = ?\"\n",
    "    cursor.execute(query, (username, password))\n",
    "    result = cursor.fetchall()\n",
    "    conn.close()\n",
    "    return result\n",
    "\n",
    "# Ejemplo de uso seguro\n",
    "username = input(\"Nombre de usuario: \")\n",
    "password = input(\"Contraseña: \")\n",
    "users = login_seguro(username, password)\n",
    "print(\"Resultados de la consulta:\")\n",
    "for user in users:\n",
    "    print(user)"
   ]
  },
  {
   "cell_type": "markdown",
   "metadata": {},
   "source": [
    "### Volver a probar en el input:\n",
    "- username = \"' OR '1'='1\"\n",
    "- password = \"' OR '1'='1\""
   ]
  }
 ],
 "metadata": {
  "kernelspec": {
   "display_name": "Python 3",
   "language": "python",
   "name": "python3"
  },
  "language_info": {
   "codemirror_mode": {
    "name": "ipython",
    "version": 3
   },
   "file_extension": ".py",
   "mimetype": "text/x-python",
   "name": "python",
   "nbconvert_exporter": "python",
   "pygments_lexer": "ipython3",
   "version": "3.12.1"
  }
 },
 "nbformat": 4,
 "nbformat_minor": 2
}
