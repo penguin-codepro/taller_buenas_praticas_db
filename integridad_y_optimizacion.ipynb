{
 "cells": [
  {
   "cell_type": "markdown",
   "metadata": {},
   "source": [
    "### Conectamos a la base de datos \"integridad.db\" y creamos una tabla \"Usuarios\". "
   ]
  },
  {
   "cell_type": "markdown",
   "metadata": {},
   "source": [
    "- La columna ID identifica de manera unica a cada usuario de la tabla, por lo que no puede repetirse. Por lo que utilizaremos la restriccion Primary Key.\n",
    "\n",
    "- La columna Nombre no puede tener valores nulos por lo que aplicaremos la restricción NOT NULL que asegura que una columna no puede tener valores nulos. Esto significa que siempre debe haber un valor en esa columna\n",
    "\n",
    "- Email deben ser únicos por lo que utilizaremos \"UNIQUE\"que asegura que todos los valores en una columna sean únicos. Esto significa que no puede haber valores duplicados en esa columna"
   ]
  },
  {
   "cell_type": "code",
   "execution_count": 8,
   "metadata": {},
   "outputs": [
    {
     "data": {
      "text/plain": [
       "<sqlite3.Cursor at 0x27c22bf0340>"
      ]
     },
     "execution_count": 8,
     "metadata": {},
     "output_type": "execute_result"
    }
   ],
   "source": [
    "import sqlite3\n",
    "\n",
    "conn = sqlite3.connect('integridad.db')\n",
    "cursor = conn.cursor()\n",
    "\n",
    "# Crear tablas con diferentes restricciones\n",
    "cursor.execute('''\n",
    "CREATE TABLE IF NOT EXISTS Usuarios (\n",
    "    ID INTEGER PRIMARY KEY,\n",
    "    Nombre TEXT NOT NULL,\n",
    "    Email TEXT UNIQUE\n",
    ");\n",
    "''')"
   ]
  },
  {
   "cell_type": "markdown",
   "metadata": {},
   "source": [
    "##### Creamos una tabla \"Productos\" donde la columna \"Precio\" debe tener un valor mayor que 0 por lo que aplicamos la restricción CHECK asegura que los valores en una columna cumplan con una condición específica"
   ]
  },
  {
   "cell_type": "code",
   "execution_count": 9,
   "metadata": {},
   "outputs": [
    {
     "data": {
      "text/plain": [
       "<sqlite3.Cursor at 0x27c22bf0340>"
      ]
     },
     "execution_count": 9,
     "metadata": {},
     "output_type": "execute_result"
    }
   ],
   "source": [
    "cursor.execute('''\n",
    "CREATE TABLE IF NOT EXISTS Productos (\n",
    "    ID INTEGER PRIMARY KEY,\n",
    "    Nombre TEXT,\n",
    "    Precio REAL CHECK (Precio > 0)\n",
    ");\n",
    "''')"
   ]
  },
  {
   "cell_type": "markdown",
   "metadata": {},
   "source": [
    "Creamos una tabla \"Pedidos\" donde la columna ClienteID debe coincidir con un ID en la tabla Clientes. Aplicamos la restricción FOREIGN KEY asegura que los valores en una columna coincidan con los valores de una columna en otra tabla"
   ]
  },
  {
   "cell_type": "code",
   "execution_count": 24,
   "metadata": {},
   "outputs": [
    {
     "data": {
      "text/plain": [
       "<sqlite3.Cursor at 0x27c22bf0340>"
      ]
     },
     "execution_count": 24,
     "metadata": {},
     "output_type": "execute_result"
    }
   ],
   "source": [
    "cursor.execute('''\n",
    "CREATE TABLE IF NOT EXISTS Pedidos (\n",
    "    ID INTEGER PRIMARY KEY,\n",
    "    UsuarioID INTEGER,\n",
    "    FOREIGN KEY (UsuarioID) REFERENCES Usuarios(ID)\n",
    ");\n",
    "''')"
   ]
  },
  {
   "cell_type": "markdown",
   "metadata": {},
   "source": [
    "#### Insertamos datos en nuestras tablas"
   ]
  },
  {
   "cell_type": "code",
   "execution_count": 25,
   "metadata": {},
   "outputs": [
    {
     "data": {
      "text/plain": [
       "<sqlite3.Cursor at 0x27c22bf0340>"
      ]
     },
     "execution_count": 25,
     "metadata": {},
     "output_type": "execute_result"
    }
   ],
   "source": [
    "# Insertar datos\n",
    "cursor.execute(\"INSERT OR IGNORE INTO Productos (ID, Nombre, Precio) VALUES (1, 'Gaseosa', 5000)\")\n",
    "cursor.execute(\"INSERT OR IGNORE INTO Pedidos (ID, UsuarioID) VALUES (1, 1)\") \n",
    "cursor.execute(\"INSERT OR IGNORE INTO Usuarios (ID, Nombre, Email) VALUES (1, 'Gus', 'gus@ejemplo.com')\")"
   ]
  },
  {
   "cell_type": "markdown",
   "metadata": {},
   "source": [
    "-----------------------------------------------------------------------------------------------------------------------------------------------------------------"
   ]
  },
  {
   "cell_type": "markdown",
   "metadata": {},
   "source": [
    "## OPRIMIZACION DE CONSULTAS"
   ]
  },
  {
   "cell_type": "markdown",
   "metadata": {},
   "source": [
    "### Consulta ineficiente con SELECT *"
   ]
  },
  {
   "cell_type": "code",
   "execution_count": 47,
   "metadata": {},
   "outputs": [
    {
     "name": "stdout",
     "output_type": "stream",
     "text": [
      "Consulta ineficiente (SELECT *):\n",
      "(1, 'Gus', 'gus@ejemplo.com')\n"
     ]
    }
   ],
   "source": [
    "print(\"Consulta ineficiente (SELECT *):\")\n",
    "for row in cursor.execute(\"SELECT * FROM Usuarios;\"):\n",
    "    print(row)"
   ]
  },
  {
   "cell_type": "markdown",
   "metadata": {},
   "source": [
    "### Consulta eficiente seleccionando solo las columnas necesarias"
   ]
  },
  {
   "cell_type": "markdown",
   "metadata": {},
   "source": [
    "Seleccionar solo las columnas necesarias reduce la cantidad de datos transferidos entre la base de datos y la aplicación, lo que mejora el rendimiento de la consulta y reduce el uso de memoria."
   ]
  },
  {
   "cell_type": "code",
   "execution_count": 13,
   "metadata": {},
   "outputs": [
    {
     "name": "stdout",
     "output_type": "stream",
     "text": [
      "\n",
      "Consulta eficiente (SELECT columnas específicas):\n",
      "(1, 'Gus', 'gus@ejemplo.com')\n"
     ]
    }
   ],
   "source": [
    "print(\"\\nConsulta eficiente (SELECT columnas específicas):\")\n",
    "for row in cursor.execute(\"SELECT ID, Nombre, Email FROM Usuarios;\"):\n",
    "    print(row)"
   ]
  },
  {
   "cell_type": "markdown",
   "metadata": {},
   "source": [
    "### Consulta con Subconsulta"
   ]
  },
  {
   "cell_type": "code",
   "execution_count": 26,
   "metadata": {},
   "outputs": [
    {
     "name": "stdout",
     "output_type": "stream",
     "text": [
      "Consulta con subconsulta:\n",
      "('Gus', 1)\n"
     ]
    }
   ],
   "source": [
    "print(\"Consulta con subconsulta:\")\n",
    "for row in cursor.execute('''\n",
    "SELECT Nombre, (SELECT COUNT(*) FROM Pedidos WHERE Pedidos.UsuarioID = Usuarios.ID) AS TotalPedidos\n",
    "FROM Usuarios;\n",
    "'''):\n",
    "    print(row)\n",
    "\n"
   ]
  },
  {
   "cell_type": "markdown",
   "metadata": {},
   "source": [
    "### Consulta con JOIN\n",
    "\n",
    "Seleccionar solo las columnas necesarias reduce la cantidad de datos transferidos entre la base de datos y la aplicación, lo que mejora el rendimiento de la consulta y reduce el uso de memoria"
   ]
  },
  {
   "cell_type": "code",
   "execution_count": 27,
   "metadata": {},
   "outputs": [
    {
     "name": "stdout",
     "output_type": "stream",
     "text": [
      "\n",
      "Consulta con JOIN:\n",
      "('Gus', 1)\n"
     ]
    }
   ],
   "source": [
    "print(\"\\nConsulta con JOIN:\")\n",
    "for row in cursor.execute('''\n",
    "SELECT Usuarios.Nombre, COUNT(Pedidos.ID) AS TotalPedidos\n",
    "FROM Usuarios\n",
    "LEFT JOIN Pedidos ON Usuarios.ID = Pedidos.UsuarioID\n",
    "GROUP BY Usuarios.Nombre;\n",
    "'''):\n",
    "    print(row)"
   ]
  },
  {
   "cell_type": "markdown",
   "metadata": {},
   "source": [
    "### Indices"
   ]
  },
  {
   "cell_type": "markdown",
   "metadata": {},
   "source": [
    "### Implementamos indices\n",
    "\n",
    "Estos índices ayudan a la base de datos a encontrar rápidamente las filas relevantes para los joins, mejorando el tiempo de respuesta de las consultas"
   ]
  },
  {
   "cell_type": "code",
   "execution_count": 28,
   "metadata": {},
   "outputs": [
    {
     "data": {
      "text/plain": [
       "<sqlite3.Cursor at 0x27c22bf0340>"
      ]
     },
     "execution_count": 28,
     "metadata": {},
     "output_type": "execute_result"
    }
   ],
   "source": [
    "# Crear índices\n",
    "cursor.execute(\"CREATE INDEX IF NOT EXISTS idx_usuarios_id ON Usuarios(ID)\")\n",
    "cursor.execute(\"CREATE INDEX IF NOT EXISTS idx_pedidos_usuarioid ON Pedidos(UsuarioID)\")"
   ]
  },
  {
   "cell_type": "markdown",
   "metadata": {},
   "source": [
    "### Ejemplo de consulta optimizada con JOINs"
   ]
  },
  {
   "cell_type": "code",
   "execution_count": 45,
   "metadata": {},
   "outputs": [
    {
     "name": "stdout",
     "output_type": "stream",
     "text": [
      "Consulta optimizada con JOINs:\n",
      "('Gus', 'gus@ejemplo.com', 1)\n"
     ]
    }
   ],
   "source": [
    "# Consulta optimizada con JOINs\n",
    "print(\"Consulta optimizada con JOINs:\")\n",
    "for row in cursor.execute('''\n",
    "SELECT Usuarios.Nombre, Usuarios.Email, Pedidos.ID AS PedidoID\n",
    "FROM Usuarios\n",
    "INNER JOIN Pedidos ON Usuarios.ID = Pedidos.UsuarioID;\n",
    "'''):\n",
    "    print(row)"
   ]
  }
 ],
 "metadata": {
  "kernelspec": {
   "display_name": "Python 3",
   "language": "python",
   "name": "python3"
  },
  "language_info": {
   "codemirror_mode": {
    "name": "ipython",
    "version": 3
   },
   "file_extension": ".py",
   "mimetype": "text/x-python",
   "name": "python",
   "nbconvert_exporter": "python",
   "pygments_lexer": "ipython3",
   "version": "3.12.1"
  }
 },
 "nbformat": 4,
 "nbformat_minor": 2
}
