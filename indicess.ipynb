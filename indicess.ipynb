{
 "cells": [
  {
   "cell_type": "markdown",
   "metadata": {},
   "source": [
    "##### Conectamos a una base de datos SQLite llamada \"bdejemplo.db\" y creamos varias tablas (Usuarios, Ordenes, Articulos, Cursos, Profesores, Estudiantes, Inscripciones, Aulas)"
   ]
  },
  {
   "cell_type": "code",
   "execution_count": 1,
   "metadata": {},
   "outputs": [
    {
     "data": {
      "text/plain": [
       "<sqlite3.Cursor at 0x1ad76997140>"
      ]
     },
     "execution_count": 1,
     "metadata": {},
     "output_type": "execute_result"
    }
   ],
   "source": [
    "import sqlite3\n",
    "\n",
    "# Conectar a la base de datos SQLite (o crearla si no existe)\n",
    "conn = sqlite3.connect('bdejemplo.db')\n",
    "cursor = conn.cursor()\n",
    "\n",
    "# Crear tablas\n",
    "cursor.execute('''\n",
    "CREATE TABLE IF NOT EXISTS Usuarios (\n",
    "    ID INTEGER PRIMARY KEY,\n",
    "    Nombre TEXT,\n",
    "    Email TEXT UNIQUE\n",
    ")\n",
    "''')\n",
    "\n",
    "cursor.execute('''\n",
    "CREATE TABLE IF NOT EXISTS Ordenes (\n",
    "    OrdenID INTEGER PRIMARY KEY,\n",
    "    UsuarioID INTEGER,\n",
    "    Fecha DATE,\n",
    "    FOREIGN KEY (UsuarioID) REFERENCES Usuarios(ID)\n",
    ")\n",
    "''')\n",
    "\n",
    "cursor.execute('''\n",
    "CREATE TABLE IF NOT EXISTS Articulos (\n",
    "    ID INTEGER PRIMARY KEY,\n",
    "    Titulo TEXT,\n",
    "    Contenido TEXT\n",
    ")\n",
    "''')\n",
    "\n",
    "cursor.execute('''\n",
    "CREATE TABLE IF NOT EXISTS Cursos (\n",
    "    CursoID INTEGER PRIMARY KEY,\n",
    "    Curso TEXT\n",
    ")\n",
    "''')\n",
    "\n",
    "cursor.execute('''\n",
    "CREATE TABLE IF NOT EXISTS Profesores (\n",
    "    ProfesorID INTEGER PRIMARY KEY,\n",
    "    ProfesorNombre TEXT\n",
    ")\n",
    "''')\n",
    "\n",
    "cursor.execute('''\n",
    "CREATE TABLE IF NOT EXISTS Estudiantes (\n",
    "    EstudianteID INTEGER PRIMARY KEY,\n",
    "    Nombre TEXT\n",
    ")\n",
    "''')\n",
    "\n",
    "cursor.execute('''\n",
    "CREATE TABLE IF NOT EXISTS Inscripciones (\n",
    "    EstudianteID INTEGER,\n",
    "    CursoID INTEGER,\n",
    "    FOREIGN KEY (EstudianteID) REFERENCES Estudiantes(EstudianteID),\n",
    "    FOREIGN KEY (CursoID) REFERENCES Cursos(CursoID)\n",
    ")\n",
    "''')\n",
    "\n",
    "cursor.execute('''\n",
    "CREATE TABLE IF NOT EXISTS Aulas (\n",
    "    Aula TEXT PRIMARY KEY,\n",
    "    ProfesorID INTEGER,\n",
    "    FOREIGN KEY (ProfesorID) REFERENCES Profesores(ProfesorID)\n",
    ")\n",
    "''')\n"
   ]
  },
  {
   "cell_type": "markdown",
   "metadata": {},
   "source": [
    "##### Insertamos datos en las tablas que creamos anteriormente. Usamos INSERT OR IGNORE para evitar errores si los datos ya existen."
   ]
  },
  {
   "cell_type": "code",
   "execution_count": 2,
   "metadata": {},
   "outputs": [
    {
     "data": {
      "text/plain": [
       "<sqlite3.Cursor at 0x1ad76997140>"
      ]
     },
     "execution_count": 2,
     "metadata": {},
     "output_type": "execute_result"
    }
   ],
   "source": [
    "# Insertar datos en las tablas\n",
    "cursor.execute(\"INSERT OR IGNORE INTO Usuarios (ID, Nombre, Email) VALUES (1, 'Juan Pérez', 'juan@example.com')\")\n",
    "cursor.execute(\"INSERT OR IGNORE INTO Usuarios (ID, Nombre, Email) VALUES (2, 'Ana López', 'ana@example.com')\")\n",
    "cursor.execute(\"INSERT OR IGNORE INTO Usuarios (ID, Nombre, Email) VALUES (3, 'Carlos Ruiz', 'carlos@example.com')\")\n",
    "\n",
    "cursor.execute(\"INSERT OR IGNORE INTO Ordenes (OrdenID, UsuarioID, Fecha) VALUES (1, 1, '2024-07-01')\")\n",
    "cursor.execute(\"INSERT OR IGNORE INTO Ordenes (OrdenID, UsuarioID, Fecha) VALUES (2, 2, '2024-07-02')\")\n",
    "cursor.execute(\"INSERT OR IGNORE INTO Ordenes (OrdenID, UsuarioID, Fecha) VALUES (3, 3, '2024-07-03')\")\n",
    "\n",
    "cursor.execute(\"INSERT OR IGNORE INTO Articulos (ID, Titulo, Contenido) VALUES (1, 'Artículo 1', 'Contenido del artículo 1')\")\n",
    "cursor.execute(\"INSERT OR IGNORE INTO Articulos (ID, Titulo, Contenido) VALUES (2, 'Artículo 2', 'Contenido del artículo 2')\")\n",
    "cursor.execute(\"INSERT OR IGNORE INTO Articulos (ID, Titulo, Contenido) VALUES (3, 'Artículo 3', 'Contenido del artículo 3')\")\n",
    "\n",
    "cursor.execute(\"INSERT OR IGNORE INTO Cursos (CursoID, Curso) VALUES (1, 'Matemáticas')\")\n",
    "cursor.execute(\"INSERT OR IGNORE INTO Cursos (CursoID, Curso) VALUES (2, 'Física')\")\n",
    "cursor.execute(\"INSERT OR IGNORE INTO Cursos (CursoID, Curso) VALUES (3, 'Química')\")\n",
    "cursor.execute(\"INSERT OR IGNORE INTO Cursos (CursoID, Curso) VALUES (4, 'Biología')\")\n",
    "\n",
    "cursor.execute(\"INSERT OR IGNORE INTO Profesores (ProfesorID, ProfesorNombre) VALUES (101, 'Lc. García')\")\n",
    "cursor.execute(\"INSERT OR IGNORE INTO Profesores (ProfesorID, ProfesorNombre) VALUES (102, 'Lc. López')\")\n",
    "cursor.execute(\"INSERT OR IGNORE INTO Profesores (ProfesorID, ProfesorNombre) VALUES (103, 'Lc. Martínez')\")\n",
    "cursor.execute(\"INSERT OR IGNORE INTO Profesores (ProfesorID, ProfesorNombre) VALUES (104, 'Lc. Fernández')\")\n",
    "\n",
    "cursor.execute(\"INSERT OR IGNORE INTO Estudiantes (EstudianteID, Nombre) VALUES (1, 'Juan Pérez')\")\n",
    "cursor.execute(\"INSERT OR IGNORE INTO Estudiantes (EstudianteID, Nombre) VALUES (2, 'Ana López')\")\n",
    "\n",
    "cursor.execute(\"INSERT OR IGNORE INTO Inscripciones (EstudianteID, CursoID) VALUES (1, 1)\")\n",
    "cursor.execute(\"INSERT OR IGNORE INTO Inscripciones (EstudianteID, CursoID) VALUES (1, 2)\")\n",
    "cursor.execute(\"INSERT OR IGNORE INTO Inscripciones (EstudianteID, CursoID) VALUES (2, 2)\")\n",
    "\n",
    "cursor.execute(\"INSERT OR IGNORE INTO Aulas (Aula, ProfesorID) VALUES ('101', 101)\")\n",
    "cursor.execute(\"INSERT OR IGNORE INTO Aulas (Aula, ProfesorID) VALUES ('102', 102)\")"
   ]
  },
  {
   "cell_type": "markdown",
   "metadata": {},
   "source": [
    "##### Usamos EXPLAIN QUERY PLAN para ver el plan de ejecución de la consulta antes y después de crear el índice. Esto muestra cómo la base de datos planea ejecutar la consulta y cómo los índices afectan este plan."
   ]
  },
  {
   "cell_type": "markdown",
   "metadata": {},
   "source": [
    "##### Sin el Indice la base de datos realiza un escaneo completo de la tabla Usuarios"
   ]
  },
  {
   "cell_type": "code",
   "execution_count": 3,
   "metadata": {},
   "outputs": [
    {
     "name": "stdout",
     "output_type": "stream",
     "text": [
      "EXPLAIN sin índice:\n",
      "(2, 0, 0, 'SCAN Usuarios')\n",
      "\n",
      "Consulta sin índice:\n",
      "(1, 'Juan Pérez', 'juan@example.com')\n"
     ]
    }
   ],
   "source": [
    "# Consulta con EXPLAIN antes de crear el índice\n",
    "print(\"EXPLAIN sin índice:\")\n",
    "for row in cursor.execute(\"EXPLAIN QUERY PLAN SELECT * FROM Usuarios WHERE Nombre = 'Juan Pérez'\"):\n",
    "    print(row)\n",
    "\n",
    "print(\"\\nConsulta sin índice:\")\n",
    "for row in cursor.execute(\"SELECT * FROM Usuarios WHERE Nombre = 'Juan Pérez'\"):\n",
    "    print(row)"
   ]
  },
  {
   "cell_type": "markdown",
   "metadata": {},
   "source": [
    "##### Con el Indice la base de datos utiliza el índice idx_nombre para encontrar rápidamente las filas que coinciden con Nombre = 'Juan Pérez'."
   ]
  },
  {
   "cell_type": "code",
   "execution_count": 5,
   "metadata": {},
   "outputs": [
    {
     "name": "stdout",
     "output_type": "stream",
     "text": [
      "\n",
      "EXPLAIN con índice:\n",
      "(3, 0, 0, 'SEARCH Usuarios USING INDEX idx_nombre (Nombre=?)')\n",
      "\n",
      "Consulta con índice:\n",
      "(1, 'Juan Pérez', 'juan@example.com')\n"
     ]
    }
   ],
   "source": [
    "# Crear índices\n",
    "cursor.execute(\"CREATE INDEX IF NOT EXISTS idx_usuario_fecha ON Ordenes (UsuarioID, Fecha)\")\n",
    "cursor.execute(\"CREATE INDEX IF NOT EXISTS idx_nombre ON Usuarios (Nombre)\")\n",
    "\n",
    "# Consulta con EXPLAIN despues de crear el índice\n",
    "\n",
    "print(\"\\nEXPLAIN con índice:\")\n",
    "for row in cursor.execute(\"EXPLAIN QUERY PLAN SELECT * FROM Usuarios WHERE Nombre = 'Juan Pérez'\"):\n",
    "    print(row)\n",
    "\n",
    "print(\"\\nConsulta con índice:\")\n",
    "for row in cursor.execute(\"SELECT * FROM Usuarios WHERE Nombre = 'Juan Pérez'\"):\n",
    "    print(row)\n",
    "\n",
    "conn.commit()\n",
    "conn.close()"
   ]
  }
 ],
 "metadata": {
  "kernelspec": {
   "display_name": "Python 3",
   "language": "python",
   "name": "python3"
  },
  "language_info": {
   "codemirror_mode": {
    "name": "ipython",
    "version": 3
   },
   "file_extension": ".py",
   "mimetype": "text/x-python",
   "name": "python",
   "nbconvert_exporter": "python",
   "pygments_lexer": "ipython3",
   "version": "3.12.1"
  }
 },
 "nbformat": 4,
 "nbformat_minor": 2
}
