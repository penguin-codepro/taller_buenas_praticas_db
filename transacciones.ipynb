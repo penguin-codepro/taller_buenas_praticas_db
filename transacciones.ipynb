{
 "cells": [
  {
   "cell_type": "markdown",
   "metadata": {},
   "source": [
    "##### Conectamos a la base de datos \"transacciones.db\" y creamos una tabla \"Cuentas\". Insertamos dos cuentas iniciales."
   ]
  },
  {
   "cell_type": "code",
   "execution_count": 1,
   "metadata": {},
   "outputs": [],
   "source": [
    "import sqlite3\n",
    "\n",
    "conn = sqlite3.connect('transacciones.db')\n",
    "cursor = conn.cursor()\n",
    "\n",
    "# Crear las tablas si no existen\n",
    "cursor.execute('''\n",
    "CREATE TABLE IF NOT EXISTS Cuentas (\n",
    "    id INTEGER PRIMARY KEY,\n",
    "    nombre TEXT,\n",
    "    saldo REAL\n",
    ")\n",
    "''')\n",
    "\n",
    "# Insertar datos de ejemplo\n",
    "cursor.execute(\"INSERT OR IGNORE INTO Cuentas (id, nombre, saldo) VALUES (1, 'Tutu', 1000.0)\")\n",
    "cursor.execute(\"INSERT OR IGNORE INTO Cuentas (id, nombre, saldo) VALUES (2, 'Gus', 500.0)\")\n",
    "\n",
    "# Confirmar los cambios iniciales\n",
    "conn.commit()"
   ]
  },
  {
   "cell_type": "markdown",
   "metadata": {},
   "source": [
    "##### Observamos los saldos de las cuentas antes de la transacción."
   ]
  },
  {
   "cell_type": "code",
   "execution_count": 2,
   "metadata": {},
   "outputs": [
    {
     "name": "stdout",
     "output_type": "stream",
     "text": [
      "Balances antes de la transacción:\n",
      "(1, 'Tutu', 1000.0)\n",
      "(2, 'Gus', 500.0)\n"
     ]
    }
   ],
   "source": [
    "print(\"Saldos antes de la transacción:\")\n",
    "for row in cursor.execute(\"SELECT * FROM Cuentas\"):\n",
    "    print(row)"
   ]
  },
  {
   "cell_type": "markdown",
   "metadata": {},
   "source": [
    "##### Iniciamos una nueva transacción. Actualizamos los saldos de las cuentas de Tutu y Gus. Confirmamos la transacción y en caso de error, conn.rollback() revierte la transacción."
   ]
  },
  {
   "cell_type": "code",
   "execution_count": 3,
   "metadata": {},
   "outputs": [
    {
     "name": "stdout",
     "output_type": "stream",
     "text": [
      "Transacción completada con éxito.\n"
     ]
    }
   ],
   "source": [
    "# Realizar una transferencia usando una transacción\n",
    "try:\n",
    "    conn.execute('BEGIN TRANSACTION')\n",
    "    \n",
    "    # Retirar 100 de la cuenta de Tutu\n",
    "    cursor.execute(\"UPDATE Cuentas SET saldo = saldo - 100 WHERE id = 1\")\n",
    "    \n",
    "    # Depositar 100 en la cuenta de Gus\n",
    "    cursor.execute(\"UPDATE Cuentas SET saldo = saldo + 100 WHERE id = 2\")\n",
    "    \n",
    "    # Confirmar la transacción\n",
    "    conn.commit()\n",
    "    print(\"Transacción completada con éxito.\")\n",
    "except sqlite3.Error as e:\n",
    "    # Revertir la transacción si hay un error\n",
    "    conn.rollback()\n",
    "    print(f\"Error en la transacción: {e}\")"
   ]
  },
  {
   "cell_type": "markdown",
   "metadata": {},
   "source": [
    "Mostramos los saldos de las cuentas después de la transacción y cerramos la conexion"
   ]
  },
  {
   "cell_type": "code",
   "execution_count": 4,
   "metadata": {},
   "outputs": [
    {
     "name": "stdout",
     "output_type": "stream",
     "text": [
      "Saldos después de la transacción:\n",
      "(1, 'Tutu', 900.0)\n",
      "(2, 'Gus', 600.0)\n"
     ]
    }
   ],
   "source": [
    "# Mostrar el sakdo  después de la transacción\n",
    "print(\"Saldos después de la transacción:\")\n",
    "for row in cursor.execute(\"SELECT * FROM Cuentas\"):\n",
    "    print(row)\n",
    "\n",
    "conn.close()\n"
   ]
  }
 ],
 "metadata": {
  "kernelspec": {
   "display_name": "Python 3",
   "language": "python",
   "name": "python3"
  },
  "language_info": {
   "codemirror_mode": {
    "name": "ipython",
    "version": 3
   },
   "file_extension": ".py",
   "mimetype": "text/x-python",
   "name": "python",
   "nbconvert_exporter": "python",
   "pygments_lexer": "ipython3",
   "version": "3.12.1"
  }
 },
 "nbformat": 4,
 "nbformat_minor": 2
}
